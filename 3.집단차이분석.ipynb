{
 "cells": [
  {
   "cell_type": "code",
   "execution_count": 1,
   "metadata": {},
   "outputs": [],
   "source": [
    "import pandas as pd\n",
    "import numpy as np\n",
    "import seaborn as sns\n",
    "import matplotlib.pyplot as plt\n",
    "from scipy.stats import levene\n",
    "from scipy.stats import shapiro\n",
    "from scipy.stats import kruskal\n",
    "from statsmodels.formula.api import ols\n",
    "from statsmodels.stats.anova import anova_lm"
   ]
  },
  {
   "cell_type": "code",
   "execution_count": 2,
   "metadata": {
    "id": "xl2eJSirvlJ9"
   },
   "outputs": [],
   "source": [
    "#집단별 각 변수의 차이가 유의미한가?"
   ]
  },
  {
   "cell_type": "code",
   "execution_count": 3,
   "metadata": {},
   "outputs": [],
   "source": [
    "lst_name = ['수원','용인','부천','시흥','광명','안산','안양','포천','하남','화성']\n",
    "lst_path = [f\"클러스터링_데이터/클러스터링_{name}.csv\" for name in lst_name]"
   ]
  },
  {
   "cell_type": "code",
   "execution_count": 4,
   "metadata": {
    "executionInfo": {
     "elapsed": 638,
     "status": "ok",
     "timestamp": 1725687120156,
     "user": {
      "displayName": "양원선",
      "userId": "14899831217221144495"
     },
     "user_tz": -540
    },
    "id": "Q96qQUPD9TAs"
   },
   "outputs": [],
   "source": [
    "df= pd.read_csv(lst_path[0])"
   ]
  },
  {
   "cell_type": "code",
   "execution_count": 5,
   "metadata": {
    "colab": {
     "base_uri": "https://localhost:8080/",
     "height": 206
    },
    "executionInfo": {
     "elapsed": 520,
     "status": "ok",
     "timestamp": 1725688556280,
     "user": {
      "displayName": "양원선",
      "userId": "14899831217221144495"
     },
     "user_tz": -540
    },
    "id": "_T_DprXK9S-W",
    "outputId": "735438c7-ed1d-4a41-9f8f-55141b32fa66"
   },
   "outputs": [
    {
     "data": {
      "text/html": [
       "<div>\n",
       "<style scoped>\n",
       "    .dataframe tbody tr th:only-of-type {\n",
       "        vertical-align: middle;\n",
       "    }\n",
       "\n",
       "    .dataframe tbody tr th {\n",
       "        vertical-align: top;\n",
       "    }\n",
       "\n",
       "    .dataframe thead th {\n",
       "        text-align: right;\n",
       "    }\n",
       "</style>\n",
       "<table border=\"1\" class=\"dataframe\">\n",
       "  <thead>\n",
       "    <tr style=\"text-align: right;\">\n",
       "      <th></th>\n",
       "      <th>입출차비율</th>\n",
       "      <th>소매/유통</th>\n",
       "      <th>의료/건강</th>\n",
       "      <th>70세_이상_비율</th>\n",
       "      <th>kmeans_cluster</th>\n",
       "    </tr>\n",
       "  </thead>\n",
       "  <tbody>\n",
       "    <tr>\n",
       "      <th>0</th>\n",
       "      <td>0.26</td>\n",
       "      <td>56591.0</td>\n",
       "      <td>58389.0</td>\n",
       "      <td>0.19</td>\n",
       "      <td>2</td>\n",
       "    </tr>\n",
       "    <tr>\n",
       "      <th>1</th>\n",
       "      <td>0.24</td>\n",
       "      <td>102121.0</td>\n",
       "      <td>64102.0</td>\n",
       "      <td>0.19</td>\n",
       "      <td>2</td>\n",
       "    </tr>\n",
       "    <tr>\n",
       "      <th>2</th>\n",
       "      <td>0.24</td>\n",
       "      <td>56630.0</td>\n",
       "      <td>111038.0</td>\n",
       "      <td>0.06</td>\n",
       "      <td>2</td>\n",
       "    </tr>\n",
       "    <tr>\n",
       "      <th>3</th>\n",
       "      <td>0.22</td>\n",
       "      <td>148486.0</td>\n",
       "      <td>64920.0</td>\n",
       "      <td>0.07</td>\n",
       "      <td>2</td>\n",
       "    </tr>\n",
       "    <tr>\n",
       "      <th>4</th>\n",
       "      <td>0.26</td>\n",
       "      <td>36529.0</td>\n",
       "      <td>13262.0</td>\n",
       "      <td>0.13</td>\n",
       "      <td>1</td>\n",
       "    </tr>\n",
       "  </tbody>\n",
       "</table>\n",
       "</div>"
      ],
      "text/plain": [
       "   입출차비율     소매/유통     의료/건강  70세_이상_비율  kmeans_cluster\n",
       "0   0.26   56591.0   58389.0       0.19               2\n",
       "1   0.24  102121.0   64102.0       0.19               2\n",
       "2   0.24   56630.0  111038.0       0.06               2\n",
       "3   0.22  148486.0   64920.0       0.07               2\n",
       "4   0.26   36529.0   13262.0       0.13               1"
      ]
     },
     "execution_count": 5,
     "metadata": {},
     "output_type": "execute_result"
    }
   ],
   "source": [
    "df_anova=df.iloc[:,2:7]\n",
    "df_anova.head()"
   ]
  },
  {
   "cell_type": "markdown",
   "metadata": {},
   "source": [
    "# 등분산 검정"
   ]
  },
  {
   "cell_type": "code",
   "execution_count": 6,
   "metadata": {
    "colab": {
     "base_uri": "https://localhost:8080/"
    },
    "executionInfo": {
     "elapsed": 410,
     "status": "ok",
     "timestamp": 1725688862569,
     "user": {
      "displayName": "양원선",
      "userId": "14899831217221144495"
     },
     "user_tz": -540
    },
    "id": "upbYlvJO9S8U",
    "outputId": "383bd429-fc29-45ee-d16b-782de28b701a"
   },
   "outputs": [
    {
     "data": {
      "text/plain": [
       "{'statistic': 0.7023, 'pvalue': 0.5013}"
      ]
     },
     "execution_count": 6,
     "metadata": {},
     "output_type": "execute_result"
    }
   ],
   "source": [
    "#등분산성 확인 - 레빈 검증\n",
    "levene_act = levene(df_anova.입출차비율[df_anova.kmeans_cluster==1],\n",
    "             df_anova.입출차비율[df_anova.kmeans_cluster==2],\n",
    "             df_anova.입출차비율[df_anova.kmeans_cluster==0])\n",
    "levene_dict = {'statistic':np.round(levene_act[0],4),'pvalue':np.round(levene_act[1],4)}\n",
    "levene_dict"
   ]
  },
  {
   "cell_type": "markdown",
   "metadata": {},
   "source": [
    "# 정규성 검정"
   ]
  },
  {
   "cell_type": "code",
   "execution_count": 7,
   "metadata": {
    "colab": {
     "base_uri": "https://localhost:8080/"
    },
    "executionInfo": {
     "elapsed": 420,
     "status": "ok",
     "timestamp": 1725690766429,
     "user": {
      "displayName": "양원선",
      "userId": "14899831217221144495"
     },
     "user_tz": -540
    },
    "id": "tMnmJgpn9S5P",
    "outputId": "49c75862-1ef3-4057-e5e9-fff84f1e9943"
   },
   "outputs": [
    {
     "data": {
      "text/plain": [
       "({'statistic': 0.8327, 'pvalue': 0.036},\n",
       " {'statistic': 0.9174, 'pvalue': 0.0229},\n",
       " {'statistic': 0.9447, 'pvalue': 0.683})"
      ]
     },
     "execution_count": 7,
     "metadata": {},
     "output_type": "execute_result"
    }
   ],
   "source": [
    "#정규성 검정\n",
    "\n",
    "shapiro_0_act = shapiro(df_anova.입출차비율[df_anova.kmeans_cluster==0])\n",
    "shapiro_1_act = shapiro(df_anova.입출차비율[df_anova.kmeans_cluster==1])\n",
    "shapiro_2_act = shapiro(df_anova.입출차비율[df_anova.kmeans_cluster==2])\n",
    "\n",
    "shapiro_0_dict = {'statistic':np.round(shapiro_0_act[0],4),'pvalue':np.round(shapiro_0_act[1],4)}\n",
    "shapiro_1_dict = {'statistic':np.round(shapiro_1_act[0],4),'pvalue':np.round(shapiro_1_act[1],4)}\n",
    "shapiro_2_dict = {'statistic':np.round(shapiro_2_act[0],4),'pvalue':np.round(shapiro_2_act[1],4)}\n",
    "\n",
    "shapiro_0_dict, shapiro_1_dict, shapiro_2_dict"
   ]
  },
  {
   "cell_type": "markdown",
   "metadata": {},
   "source": [
    "# 정규성 가정이 성립하지 않을때(비모수검정:Kruskal-Wallis)"
   ]
  },
  {
   "cell_type": "code",
   "execution_count": 8,
   "metadata": {},
   "outputs": [
    {
     "data": {
      "text/plain": [
       "{'statistic': 18.9426, 'pvalue': 0.0001}"
      ]
     },
     "execution_count": 8,
     "metadata": {},
     "output_type": "execute_result"
    }
   ],
   "source": [
    "#집단별 '입출차비율'의 차이가 유의미한가\n",
    "kw_car = kruskal(df_anova.loc[df_anova.kmeans_cluster==2,'입출차비율'],\n",
    "              df_anova.loc[df_anova.kmeans_cluster==1,'입출차비율'],\n",
    "              df_anova.loc[df_anova.kmeans_cluster==0,'입출차비율'])\n",
    "         \n",
    "kw_car_dict = {'statistic':np.round(kw_car[0],4),'pvalue':np.round(kw_car[1],4)}\n",
    "kw_car_dict"
   ]
  },
  {
   "cell_type": "code",
   "execution_count": 9,
   "metadata": {
    "colab": {
     "base_uri": "https://localhost:8080/"
    },
    "executionInfo": {
     "elapsed": 487,
     "status": "ok",
     "timestamp": 1725691691114,
     "user": {
      "displayName": "양원선",
      "userId": "14899831217221144495"
     },
     "user_tz": -540
    },
    "id": "3CkJXaju9Sy4",
    "outputId": "5fb74faf-6486-4806-d76b-829458f9a242"
   },
   "outputs": [
    {
     "data": {
      "text/plain": [
       "{'statistic': 3.0951, 'pvalue': 0.2128}"
      ]
     },
     "execution_count": 9,
     "metadata": {},
     "output_type": "execute_result"
    }
   ],
   "source": [
    "#집단별 '70세_이상_비율'의 차이가 유의미한가\n",
    "kw_elder = kruskal(df_anova.loc[df_anova.kmeans_cluster==2,'70세_이상_비율'],\n",
    "              df_anova.loc[df_anova.kmeans_cluster==1,'70세_이상_비율'],\n",
    "              df_anova.loc[df_anova.kmeans_cluster==0,'70세_이상_비율'])\n",
    "         \n",
    "kw_elder_dict = {'statistic':np.round(kw_elder[0],4),'pvalue':np.round(kw_elder[1],4)}\n",
    "kw_elder_dict"
   ]
  },
  {
   "cell_type": "code",
   "execution_count": 10,
   "metadata": {},
   "outputs": [
    {
     "data": {
      "text/plain": [
       "{'statistic': 11.0941, 'pvalue': 0.0039}"
      ]
     },
     "execution_count": 10,
     "metadata": {},
     "output_type": "execute_result"
    }
   ],
   "source": [
    "#집단별 '의료/건강'의 차이가 유의미한가\n",
    "kw_hos = kruskal(df_anova.loc[df_anova.kmeans_cluster==2,'의료/건강'],\n",
    "              df_anova.loc[df_anova.kmeans_cluster==1,'의료/건강'],\n",
    "              df_anova.loc[df_anova.kmeans_cluster==0,'의료/건강'])\n",
    "         \n",
    "kw_hos_dict = {'statistic':np.round(kw_hos[0],4),'pvalue':np.round(kw_hos[1],4)}\n",
    "kw_hos_dict"
   ]
  },
  {
   "cell_type": "code",
   "execution_count": 11,
   "metadata": {},
   "outputs": [
    {
     "data": {
      "text/plain": [
       "{'statistic': 5.4599, 'pvalue': 0.0652}"
      ]
     },
     "execution_count": 11,
     "metadata": {},
     "output_type": "execute_result"
    }
   ],
   "source": [
    "#집단별 '소매/유통'의 차이가 유의미한가\n",
    "kw_mart = kruskal(df_anova.loc[df_anova.kmeans_cluster==2,'소매/유통'],\n",
    "              df_anova.loc[df_anova.kmeans_cluster==1,'소매/유통'],\n",
    "              df_anova.loc[df_anova.kmeans_cluster==0,'소매/유통'])\n",
    "         \n",
    "kw_mart_dict = {'statistic':np.round(kw_mart[0],4),'pvalue':np.round(kw_mart[1],4)}\n",
    "kw_mart_dict"
   ]
  },
  {
   "cell_type": "code",
   "execution_count": 12,
   "metadata": {},
   "outputs": [],
   "source": [
    "df_stat = pd.DataFrame([levene_dict,shapiro_0_dict, shapiro_1_dict, shapiro_2_dict,kw_car_dict,kw_elder_dict,kw_hos_dict,kw_mart_dict],index = ['등분산성','정규성_0','정규성_1','정규성_2','입출차비율','70세_이상_비율','의료/건강','소매/유통'])"
   ]
  },
  {
   "cell_type": "code",
   "execution_count": 13,
   "metadata": {},
   "outputs": [
    {
     "data": {
      "text/html": [
       "<div>\n",
       "<style scoped>\n",
       "    .dataframe tbody tr th:only-of-type {\n",
       "        vertical-align: middle;\n",
       "    }\n",
       "\n",
       "    .dataframe tbody tr th {\n",
       "        vertical-align: top;\n",
       "    }\n",
       "\n",
       "    .dataframe thead th {\n",
       "        text-align: right;\n",
       "    }\n",
       "</style>\n",
       "<table border=\"1\" class=\"dataframe\">\n",
       "  <thead>\n",
       "    <tr style=\"text-align: right;\">\n",
       "      <th></th>\n",
       "      <th>statistic</th>\n",
       "      <th>pvalue</th>\n",
       "    </tr>\n",
       "  </thead>\n",
       "  <tbody>\n",
       "    <tr>\n",
       "      <th>등분산성</th>\n",
       "      <td>0.7023</td>\n",
       "      <td>0.5013</td>\n",
       "    </tr>\n",
       "    <tr>\n",
       "      <th>정규성_0</th>\n",
       "      <td>0.8327</td>\n",
       "      <td>0.0360</td>\n",
       "    </tr>\n",
       "    <tr>\n",
       "      <th>정규성_1</th>\n",
       "      <td>0.9174</td>\n",
       "      <td>0.0229</td>\n",
       "    </tr>\n",
       "    <tr>\n",
       "      <th>정규성_2</th>\n",
       "      <td>0.9447</td>\n",
       "      <td>0.6830</td>\n",
       "    </tr>\n",
       "    <tr>\n",
       "      <th>입출차비율</th>\n",
       "      <td>18.9426</td>\n",
       "      <td>0.0001</td>\n",
       "    </tr>\n",
       "    <tr>\n",
       "      <th>70세_이상_비율</th>\n",
       "      <td>3.0951</td>\n",
       "      <td>0.2128</td>\n",
       "    </tr>\n",
       "    <tr>\n",
       "      <th>의료/건강</th>\n",
       "      <td>11.0941</td>\n",
       "      <td>0.0039</td>\n",
       "    </tr>\n",
       "    <tr>\n",
       "      <th>소매/유통</th>\n",
       "      <td>5.4599</td>\n",
       "      <td>0.0652</td>\n",
       "    </tr>\n",
       "  </tbody>\n",
       "</table>\n",
       "</div>"
      ],
      "text/plain": [
       "           statistic  pvalue\n",
       "등분산성          0.7023  0.5013\n",
       "정규성_0         0.8327  0.0360\n",
       "정규성_1         0.9174  0.0229\n",
       "정규성_2         0.9447  0.6830\n",
       "입출차비율        18.9426  0.0001\n",
       "70세_이상_비율     3.0951  0.2128\n",
       "의료/건강        11.0941  0.0039\n",
       "소매/유통         5.4599  0.0652"
      ]
     },
     "execution_count": 13,
     "metadata": {},
     "output_type": "execute_result"
    }
   ],
   "source": [
    "df_stat"
   ]
  },
  {
   "cell_type": "markdown",
   "metadata": {},
   "source": [
    "# 전체결합해서 내보내기"
   ]
  },
  {
   "cell_type": "code",
   "execution_count": 16,
   "metadata": {},
   "outputs": [],
   "source": [
    "def anova_all(path,name):\n",
    "    \n",
    "    # 파일 불러들이기\n",
    "    df= pd.read_csv(path)\n",
    "    df_anova=df.iloc[:,2:7]\n",
    "    \n",
    "    # 등분산성 검정\n",
    "    levene_act = levene(df_anova.입출차비율[df_anova.kmeans_cluster==1],\n",
    "             df_anova.입출차비율[df_anova.kmeans_cluster==2],\n",
    "             df_anova.입출차비율[df_anova.kmeans_cluster==0])\n",
    "    levene_dict = {'statistic':np.round(levene_act[0],4),'pvalue':np.round(levene_act[1],4)}\n",
    "    \n",
    "    # 정규성 검정\n",
    "    try:\n",
    "        shapiro_0_act = shapiro(df_anova.입출차비율[df_anova.kmeans_cluster==0])\n",
    "        shapiro_1_act = shapiro(df_anova.입출차비율[df_anova.kmeans_cluster==1])\n",
    "        shapiro_2_act = shapiro(df_anova.입출차비율[df_anova.kmeans_cluster==2])\n",
    "        shapiro_0_dict = {'statistic':np.round(shapiro_0_act[0],4),'pvalue':np.round(shapiro_0_act[1],4)}\n",
    "        shapiro_1_dict = {'statistic':np.round(shapiro_1_act[0],4),'pvalue':np.round(shapiro_1_act[1],4)}\n",
    "        shapiro_2_dict = {'statistic':np.round(shapiro_2_act[0],4),'pvalue':np.round(shapiro_2_act[1],4)}\n",
    "    except ValueError: # 개수 부족으로 정규성 검정 불가능할 시 -1로 입력\n",
    "        shapiro_0_dict = {'statistic':-1,'pvalue':-1}\n",
    "        shapiro_1_dict = {'statistic':-1,'pvalue':-1}\n",
    "        shapiro_2_dict = {'statistic':-1,'pvalue':-1}\n",
    "    # 입출차비율,집단간차이 분석\n",
    "    kw_car = kruskal(df_anova.loc[df_anova.kmeans_cluster==2,'입출차비율'],\n",
    "              df_anova.loc[df_anova.kmeans_cluster==1,'입출차비율'],\n",
    "              df_anova.loc[df_anova.kmeans_cluster==0,'입출차비율'])\n",
    "    kw_car_dict = {'statistic':np.round(kw_car[0],4),'pvalue':np.round(kw_car[1],4)}\n",
    "    \n",
    "    # 70세이상비율, 집단간차이 분석\n",
    "    kw_elder = kruskal(df_anova.loc[df_anova.kmeans_cluster==2,'70세_이상_비율'],\n",
    "              df_anova.loc[df_anova.kmeans_cluster==1,'70세_이상_비율'],\n",
    "              df_anova.loc[df_anova.kmeans_cluster==0,'70세_이상_비율'])\n",
    "    kw_elder_dict = {'statistic':np.round(kw_elder[0],4),'pvalue':np.round(kw_elder[1],4)}\n",
    "    \n",
    "    # 의료/건강, 집단 간 차이 분석\n",
    "    kw_hos = kruskal(df_anova.loc[df_anova.kmeans_cluster==2,'의료/건강'],\n",
    "              df_anova.loc[df_anova.kmeans_cluster==1,'의료/건강'],\n",
    "              df_anova.loc[df_anova.kmeans_cluster==0,'의료/건강'])\n",
    "    kw_hos_dict = {'statistic':np.round(kw_hos[0],4),'pvalue':np.round(kw_hos[1],4)}\n",
    "    \n",
    "    # 소매/유통, 집단 간 차이 분석\n",
    "    kw_mart = kruskal(df_anova.loc[df_anova.kmeans_cluster==2,'소매/유통'],\n",
    "              df_anova.loc[df_anova.kmeans_cluster==1,'소매/유통'],\n",
    "              df_anova.loc[df_anova.kmeans_cluster==0,'소매/유통'])\n",
    "    kw_mart_dict = {'statistic':np.round(kw_mart[0],4),'pvalue':np.round(kw_mart[1],4)}\n",
    "\n",
    "    # 데이터 통합\n",
    "    df_stat = pd.DataFrame([levene_dict,shapiro_0_dict, shapiro_1_dict, shapiro_2_dict,kw_car_dict,kw_elder_dict,kw_hos_dict,kw_mart_dict],\n",
    "                           index = ['등분산성','정규성_0','정규성_1','정규성_2','입출차비율','70세_이상_비율','의료/건강','소매/유통'])\n",
    "    print(df_stat)\n",
    "    # 데이터 반출\n",
    "    df_stat.to_csv(f'집단간차이분석결과/{name}_집단간차이분석.csv')"
   ]
  },
  {
   "cell_type": "code",
   "execution_count": 17,
   "metadata": {},
   "outputs": [
    {
     "name": "stdout",
     "output_type": "stream",
     "text": [
      "           statistic  pvalue\n",
      "등분산성          0.7023  0.5013\n",
      "정규성_0         0.8327  0.0360\n",
      "정규성_1         0.9174  0.0229\n",
      "정규성_2         0.9447  0.6830\n",
      "입출차비율        18.9426  0.0001\n",
      "70세_이상_비율     3.0951  0.2128\n",
      "의료/건강        11.0941  0.0039\n",
      "소매/유통         5.4599  0.0652\n",
      "           statistic  pvalue\n",
      "등분산성          4.5474  0.0176\n",
      "정규성_0        -1.0000 -1.0000\n",
      "정규성_1        -1.0000 -1.0000\n",
      "정규성_2        -1.0000 -1.0000\n",
      "입출차비율        14.3562  0.0008\n",
      "70세_이상_비율     7.8011  0.0202\n",
      "의료/건강        25.5376  0.0000\n",
      "소매/유통        19.5435  0.0001\n",
      "           statistic  pvalue\n",
      "등분산성          1.9865  0.1528\n",
      "정규성_0        -1.0000 -1.0000\n",
      "정규성_1        -1.0000 -1.0000\n",
      "정규성_2        -1.0000 -1.0000\n",
      "입출차비율        23.2398  0.0000\n",
      "70세_이상_비율    11.6985  0.0029\n",
      "의료/건강        12.3069  0.0021\n",
      "소매/유통         6.0318  0.0490\n",
      "           statistic  pvalue\n",
      "등분산성          2.9938  0.0769\n",
      "정규성_0         0.8978  0.4202\n",
      "정규성_1         0.9054  0.4581\n",
      "정규성_2         0.8942  0.1334\n",
      "입출차비율         9.9592  0.0069\n",
      "70세_이상_비율     3.3560  0.1867\n",
      "의료/건강        14.1810  0.0008\n",
      "소매/유통        14.6286  0.0007\n",
      "           statistic  pvalue\n",
      "등분산성          0.8605  0.4416\n",
      "정규성_0        -1.0000 -1.0000\n",
      "정규성_1        -1.0000 -1.0000\n",
      "정규성_2        -1.0000 -1.0000\n",
      "입출차비율         6.9117  0.0316\n",
      "70세_이상_비율     4.3509  0.1136\n",
      "의료/건강        10.2180  0.0060\n",
      "소매/유통         4.6387  0.0983\n",
      "           statistic  pvalue\n",
      "등분산성         18.3834  0.0000\n",
      "정규성_0        -1.0000 -1.0000\n",
      "정규성_1        -1.0000 -1.0000\n",
      "정규성_2        -1.0000 -1.0000\n",
      "입출차비율         7.4573  0.0240\n",
      "70세_이상_비율     6.5468  0.0379\n",
      "의료/건강        13.8259  0.0010\n",
      "소매/유통         7.6787  0.0215\n",
      "           statistic  pvalue\n",
      "등분산성          2.1391  0.1366\n",
      "정규성_0        -1.0000 -1.0000\n",
      "정규성_1        -1.0000 -1.0000\n",
      "정규성_2        -1.0000 -1.0000\n",
      "입출차비율        14.1804  0.0008\n",
      "70세_이상_비율     9.1554  0.0103\n",
      "의료/건강        11.7132  0.0029\n",
      "소매/유통         6.5776  0.0373\n",
      "           statistic  pvalue\n",
      "등분산성          2.2769  0.1488\n",
      "정규성_0        -1.0000 -1.0000\n",
      "정규성_1        -1.0000 -1.0000\n",
      "정규성_2        -1.0000 -1.0000\n",
      "입출차비율        10.3084  0.0058\n",
      "70세_이상_비율    10.0754  0.0065\n",
      "의료/건강         7.1783  0.0276\n",
      "소매/유통         8.4357  0.0147\n",
      "           statistic  pvalue\n",
      "등분산성          1.3687  0.2946\n",
      "정규성_0         0.8835  0.3254\n",
      "정규성_1         0.8397  0.1945\n",
      "정규성_2         0.9076  0.4532\n",
      "입출차비율         9.6107  0.0082\n",
      "70세_이상_비율     7.7601  0.0206\n",
      "의료/건강        11.5714  0.0031\n",
      "소매/유통         9.6429  0.0081\n",
      "           statistic  pvalue\n",
      "등분산성          1.0645  0.3595\n",
      "정규성_0         0.9436  0.4297\n",
      "정규성_1         0.9494  0.6609\n",
      "정규성_2         0.9393  0.6499\n",
      "입출차비율        18.9803  0.0001\n",
      "70세_이상_비율    19.6204  0.0001\n",
      "의료/건강        16.7034  0.0002\n",
      "소매/유통         9.1782  0.0102\n"
     ]
    }
   ],
   "source": [
    "for path,name in zip(lst_path, lst_name):\n",
    "    anova_all(path,name)"
   ]
  },
  {
   "cell_type": "code",
   "execution_count": null,
   "metadata": {},
   "outputs": [],
   "source": []
  }
 ],
 "metadata": {
  "colab": {
   "authorship_tag": "ABX9TyNapfV/0Vhi7bhOWwZY36a+",
   "provenance": []
  },
  "kernelspec": {
   "display_name": "Python 3",
   "language": "python",
   "name": "python3"
  },
  "language_info": {
   "codemirror_mode": {
    "name": "ipython",
    "version": 3
   },
   "file_extension": ".py",
   "mimetype": "text/x-python",
   "name": "python",
   "nbconvert_exporter": "python",
   "pygments_lexer": "ipython3",
   "version": "3.7.9"
  }
 },
 "nbformat": 4,
 "nbformat_minor": 4
}
