{
 "cells": [
  {
   "cell_type": "code",
   "execution_count": 138,
   "metadata": {},
   "outputs": [],
   "source": [
    "import collections\n",
    "import pandas as pd"
   ]
  },
  {
   "cell_type": "code",
   "execution_count": 354,
   "metadata": {
    "colab": {
     "base_uri": "https://localhost:8080/",
     "height": 206
    },
    "executionInfo": {
     "elapsed": 18,
     "status": "ok",
     "timestamp": 1725884486373,
     "user": {
      "displayName": "박채연",
      "userId": "11657736879172127669"
     },
     "user_tz": -540
    },
    "id": "O94MaNAOldpv",
    "outputId": "d0e657de-b84b-49e2-e934-c2837530c228"
   },
   "outputs": [
    {
     "data": {
      "text/html": [
       "<div>\n",
       "<style scoped>\n",
       "    .dataframe tbody tr th:only-of-type {\n",
       "        vertical-align: middle;\n",
       "    }\n",
       "\n",
       "    .dataframe tbody tr th {\n",
       "        vertical-align: top;\n",
       "    }\n",
       "\n",
       "    .dataframe thead th {\n",
       "        text-align: right;\n",
       "    }\n",
       "</style>\n",
       "<table border=\"1\" class=\"dataframe\">\n",
       "  <thead>\n",
       "    <tr style=\"text-align: right;\">\n",
       "      <th></th>\n",
       "      <th>행정동코드</th>\n",
       "      <th>입출차비율</th>\n",
       "      <th>소매/유통</th>\n",
       "      <th>의료/건강</th>\n",
       "      <th>70세_이상_비율</th>\n",
       "      <th>kmeans_cluster</th>\n",
       "    </tr>\n",
       "  </thead>\n",
       "  <tbody>\n",
       "    <tr>\n",
       "      <th>0</th>\n",
       "      <td>41590262</td>\n",
       "      <td>0.32</td>\n",
       "      <td>117191.0</td>\n",
       "      <td>31705.0</td>\n",
       "      <td>0.08</td>\n",
       "      <td>2</td>\n",
       "    </tr>\n",
       "    <tr>\n",
       "      <th>1</th>\n",
       "      <td>41590259</td>\n",
       "      <td>0.30</td>\n",
       "      <td>128485.0</td>\n",
       "      <td>38765.0</td>\n",
       "      <td>0.06</td>\n",
       "      <td>2</td>\n",
       "    </tr>\n",
       "    <tr>\n",
       "      <th>2</th>\n",
       "      <td>41590585</td>\n",
       "      <td>0.27</td>\n",
       "      <td>59116.0</td>\n",
       "      <td>49065.0</td>\n",
       "      <td>0.03</td>\n",
       "      <td>2</td>\n",
       "    </tr>\n",
       "    <tr>\n",
       "      <th>3</th>\n",
       "      <td>41590253</td>\n",
       "      <td>0.26</td>\n",
       "      <td>142705.0</td>\n",
       "      <td>33462.0</td>\n",
       "      <td>0.07</td>\n",
       "      <td>2</td>\n",
       "    </tr>\n",
       "    <tr>\n",
       "      <th>4</th>\n",
       "      <td>41590400</td>\n",
       "      <td>0.62</td>\n",
       "      <td>12056.0</td>\n",
       "      <td>265.0</td>\n",
       "      <td>0.19</td>\n",
       "      <td>1</td>\n",
       "    </tr>\n",
       "  </tbody>\n",
       "</table>\n",
       "</div>"
      ],
      "text/plain": [
       "      행정동코드  입출차비율     소매/유통    의료/건강  70세_이상_비율  kmeans_cluster\n",
       "0  41590262   0.32  117191.0  31705.0       0.08               2\n",
       "1  41590259   0.30  128485.0  38765.0       0.06               2\n",
       "2  41590585   0.27   59116.0  49065.0       0.03               2\n",
       "3  41590253   0.26  142705.0  33462.0       0.07               2\n",
       "4  41590400   0.62   12056.0    265.0       0.19               1"
      ]
     },
     "execution_count": 354,
     "metadata": {},
     "output_type": "execute_result"
    }
   ],
   "source": [
    "# 데이터 로드\n",
    "df= pd.read_csv('clustering/클러스터링_데이터/클러스터링_용인.csv')\n",
    "# 인덱스를 열로 변환\n",
    "# df.reset_index(inplace=True)\n",
    "# df=df.rename(columns={'index':'행정동코드'})\n",
    "df = df.drop(columns=['Unnamed: 0'])\n",
    "df.head()"
   ]
  },
  {
   "cell_type": "code",
   "execution_count": 355,
   "metadata": {
    "colab": {
     "base_uri": "https://localhost:8080/",
     "height": 424
    },
    "executionInfo": {
     "elapsed": 16,
     "status": "ok",
     "timestamp": 1725884486373,
     "user": {
      "displayName": "박채연",
      "userId": "11657736879172127669"
     },
     "user_tz": -540
    },
    "id": "i5wiNPixldmY",
    "outputId": "d58eee6a-3487-4dca-89a4-28b241e99624"
   },
   "outputs": [
    {
     "data": {
      "text/html": [
       "<div>\n",
       "<style scoped>\n",
       "    .dataframe tbody tr th:only-of-type {\n",
       "        vertical-align: middle;\n",
       "    }\n",
       "\n",
       "    .dataframe tbody tr th {\n",
       "        vertical-align: top;\n",
       "    }\n",
       "\n",
       "    .dataframe thead th {\n",
       "        text-align: right;\n",
       "    }\n",
       "</style>\n",
       "<table border=\"1\" class=\"dataframe\">\n",
       "  <thead>\n",
       "    <tr style=\"text-align: right;\">\n",
       "      <th></th>\n",
       "      <th>Unnamed: 0</th>\n",
       "      <th>O_ADMI_CD</th>\n",
       "      <th>D_ADMI_CD</th>\n",
       "      <th>CNT</th>\n",
       "    </tr>\n",
       "  </thead>\n",
       "  <tbody>\n",
       "    <tr>\n",
       "      <th>0</th>\n",
       "      <td>248</td>\n",
       "      <td>41590360</td>\n",
       "      <td>41590259</td>\n",
       "      <td>10450.06</td>\n",
       "    </tr>\n",
       "    <tr>\n",
       "      <th>1</th>\n",
       "      <td>64</td>\n",
       "      <td>41590259</td>\n",
       "      <td>41590360</td>\n",
       "      <td>10178.84</td>\n",
       "    </tr>\n",
       "    <tr>\n",
       "      <th>2</th>\n",
       "      <td>1</td>\n",
       "      <td>41590253</td>\n",
       "      <td>41590259</td>\n",
       "      <td>7181.29</td>\n",
       "    </tr>\n",
       "    <tr>\n",
       "      <th>3</th>\n",
       "      <td>413</td>\n",
       "      <td>41590530</td>\n",
       "      <td>41590520</td>\n",
       "      <td>7053.97</td>\n",
       "    </tr>\n",
       "    <tr>\n",
       "      <th>4</th>\n",
       "      <td>56</td>\n",
       "      <td>41590259</td>\n",
       "      <td>41590253</td>\n",
       "      <td>7033.10</td>\n",
       "    </tr>\n",
       "    <tr>\n",
       "      <th>...</th>\n",
       "      <td>...</td>\n",
       "      <td>...</td>\n",
       "      <td>...</td>\n",
       "      <td>...</td>\n",
       "    </tr>\n",
       "    <tr>\n",
       "      <th>767</th>\n",
       "      <td>326</td>\n",
       "      <td>41590400</td>\n",
       "      <td>41590630</td>\n",
       "      <td>3.13</td>\n",
       "    </tr>\n",
       "    <tr>\n",
       "      <th>768</th>\n",
       "      <td>621</td>\n",
       "      <td>41590588</td>\n",
       "      <td>41590320</td>\n",
       "      <td>3.06</td>\n",
       "    </tr>\n",
       "    <tr>\n",
       "      <th>769</th>\n",
       "      <td>369</td>\n",
       "      <td>41590515</td>\n",
       "      <td>41590550</td>\n",
       "      <td>2.89</td>\n",
       "    </tr>\n",
       "    <tr>\n",
       "      <th>770</th>\n",
       "      <td>215</td>\n",
       "      <td>41590340</td>\n",
       "      <td>41590600</td>\n",
       "      <td>2.87</td>\n",
       "    </tr>\n",
       "    <tr>\n",
       "      <th>771</th>\n",
       "      <td>295</td>\n",
       "      <td>41590370</td>\n",
       "      <td>41590587</td>\n",
       "      <td>2.80</td>\n",
       "    </tr>\n",
       "  </tbody>\n",
       "</table>\n",
       "<p>772 rows × 4 columns</p>\n",
       "</div>"
      ],
      "text/plain": [
       "     Unnamed: 0  O_ADMI_CD  D_ADMI_CD       CNT\n",
       "0           248   41590360   41590259  10450.06\n",
       "1            64   41590259   41590360  10178.84\n",
       "2             1   41590253   41590259   7181.29\n",
       "3           413   41590530   41590520   7053.97\n",
       "4            56   41590259   41590253   7033.10\n",
       "..          ...        ...        ...       ...\n",
       "767         326   41590400   41590630      3.13\n",
       "768         621   41590588   41590320      3.06\n",
       "769         369   41590515   41590550      2.89\n",
       "770         215   41590340   41590600      2.87\n",
       "771         295   41590370   41590587      2.80\n",
       "\n",
       "[772 rows x 4 columns]"
      ]
     },
     "execution_count": 355,
     "metadata": {},
     "output_type": "execute_result"
    }
   ],
   "source": [
    "df_od=pd.read_csv('OD_데이터/OD용인.csv')\n",
    "df_od"
   ]
  },
  {
   "cell_type": "code",
   "execution_count": 356,
   "metadata": {
    "colab": {
     "base_uri": "https://localhost:8080/"
    },
    "executionInfo": {
     "elapsed": 15,
     "status": "ok",
     "timestamp": 1725884486373,
     "user": {
      "displayName": "박채연",
      "userId": "11657736879172127669"
     },
     "user_tz": -540
    },
    "id": "VVjj2LbT5DTX",
    "outputId": "e3ae03c1-566d-4180-90a2-8b2880dcd801"
   },
   "outputs": [
    {
     "data": {
      "text/plain": [
       "[41590262,\n",
       " 41590259,\n",
       " 41590585,\n",
       " 41590253,\n",
       " 41590630,\n",
       " 41590515,\n",
       " 41590560,\n",
       " 41590620,\n",
       " 41590570,\n",
       " 41590588,\n",
       " 41590610,\n",
       " 41590590,\n",
       " 41590600,\n",
       " 41590586,\n",
       " 41590550,\n",
       " 41590540,\n",
       " 41590587,\n",
       " 41590520,\n",
       " 41590530]"
      ]
     },
     "execution_count": 356,
     "metadata": {},
     "output_type": "execute_result"
    }
   ],
   "source": [
    "####지역별 수정해야할 코드\n",
    "#선택한 군집 필터링\n",
    "##용인\n",
    "df=df[(df['kmeans_cluster']==2) | (df['kmeans_cluster']==1)]\n",
    "# #광명\n",
    "# df=df[(df['kmeans_cluster']==2) | (df['kmeans_cluster']==0)]\n",
    "#부천\n",
    "# df=df[(df['kmeans_cluster']==0) | (df['kmeans_cluster']==1)]\n",
    "# #수원 \n",
    "# df=df[(df['kmeans_cluster']==2) | (df['kmeans_cluster']==1)]\n",
    "# #시흥\n",
    "# df=df[(df['kmeans_cluster']==2) | (df['kmeans_cluster']==1)]\n",
    "# #안산\n",
    "# df=df[(df['kmeans_cluster']==1) | (df['kmeans_cluster']==2)]\n",
    "# #안양 \n",
    "# df=df[(df['kmeans_cluster']==2) | (df['kmeans_cluster']==1)]\n",
    "# #포천\n",
    "# df=df[(df['kmeans_cluster']==2) | (df['kmeans_cluster']==1)]\n",
    "# #하남\n",
    "# df=df[(df['kmeans_cluster']==0) | (df['kmeans_cluster']==1)]\n",
    "# #화성\n",
    "# df=df[(df['kmeans_cluster']==2) | (df['kmeans_cluster']==0)]\n",
    "\n",
    "df_area=df['행정동코드'].to_list()\n",
    "df_area"
   ]
  },
  {
   "cell_type": "code",
   "execution_count": 357,
   "metadata": {
    "colab": {
     "base_uri": "https://localhost:8080/",
     "height": 424
    },
    "executionInfo": {
     "elapsed": 14,
     "status": "ok",
     "timestamp": 1725884486373,
     "user": {
      "displayName": "박채연",
      "userId": "11657736879172127669"
     },
     "user_tz": -540
    },
    "id": "-WHYpYTw5DVe",
    "outputId": "d37002c9-df1e-4536-f12b-45c437a8957d"
   },
   "outputs": [
    {
     "data": {
      "text/html": [
       "<div>\n",
       "<style scoped>\n",
       "    .dataframe tbody tr th:only-of-type {\n",
       "        vertical-align: middle;\n",
       "    }\n",
       "\n",
       "    .dataframe tbody tr th {\n",
       "        vertical-align: top;\n",
       "    }\n",
       "\n",
       "    .dataframe thead th {\n",
       "        text-align: right;\n",
       "    }\n",
       "</style>\n",
       "<table border=\"1\" class=\"dataframe\">\n",
       "  <thead>\n",
       "    <tr style=\"text-align: right;\">\n",
       "      <th></th>\n",
       "      <th>O_ADMI_CD</th>\n",
       "      <th>D_ADMI_CD</th>\n",
       "      <th>CNT</th>\n",
       "    </tr>\n",
       "  </thead>\n",
       "  <tbody>\n",
       "    <tr>\n",
       "      <th>2</th>\n",
       "      <td>41590253</td>\n",
       "      <td>41590259</td>\n",
       "      <td>7181.29</td>\n",
       "    </tr>\n",
       "    <tr>\n",
       "      <th>3</th>\n",
       "      <td>41590530</td>\n",
       "      <td>41590520</td>\n",
       "      <td>7053.97</td>\n",
       "    </tr>\n",
       "    <tr>\n",
       "      <th>4</th>\n",
       "      <td>41590259</td>\n",
       "      <td>41590253</td>\n",
       "      <td>7033.10</td>\n",
       "    </tr>\n",
       "    <tr>\n",
       "      <th>5</th>\n",
       "      <td>41590520</td>\n",
       "      <td>41590530</td>\n",
       "      <td>6926.11</td>\n",
       "    </tr>\n",
       "    <tr>\n",
       "      <th>6</th>\n",
       "      <td>41590560</td>\n",
       "      <td>41590253</td>\n",
       "      <td>6879.51</td>\n",
       "    </tr>\n",
       "    <tr>\n",
       "      <th>...</th>\n",
       "      <td>...</td>\n",
       "      <td>...</td>\n",
       "      <td>...</td>\n",
       "    </tr>\n",
       "    <tr>\n",
       "      <th>745</th>\n",
       "      <td>41590515</td>\n",
       "      <td>41590570</td>\n",
       "      <td>7.00</td>\n",
       "    </tr>\n",
       "    <tr>\n",
       "      <th>751</th>\n",
       "      <td>41590515</td>\n",
       "      <td>41590520</td>\n",
       "      <td>4.50</td>\n",
       "    </tr>\n",
       "    <tr>\n",
       "      <th>752</th>\n",
       "      <td>41590520</td>\n",
       "      <td>41590515</td>\n",
       "      <td>4.50</td>\n",
       "    </tr>\n",
       "    <tr>\n",
       "      <th>755</th>\n",
       "      <td>41590590</td>\n",
       "      <td>41590515</td>\n",
       "      <td>4.50</td>\n",
       "    </tr>\n",
       "    <tr>\n",
       "      <th>769</th>\n",
       "      <td>41590515</td>\n",
       "      <td>41590550</td>\n",
       "      <td>2.89</td>\n",
       "    </tr>\n",
       "  </tbody>\n",
       "</table>\n",
       "<p>323 rows × 3 columns</p>\n",
       "</div>"
      ],
      "text/plain": [
       "     O_ADMI_CD  D_ADMI_CD      CNT\n",
       "2     41590253   41590259  7181.29\n",
       "3     41590530   41590520  7053.97\n",
       "4     41590259   41590253  7033.10\n",
       "5     41590520   41590530  6926.11\n",
       "6     41590560   41590253  6879.51\n",
       "..         ...        ...      ...\n",
       "745   41590515   41590570     7.00\n",
       "751   41590515   41590520     4.50\n",
       "752   41590520   41590515     4.50\n",
       "755   41590590   41590515     4.50\n",
       "769   41590515   41590550     2.89\n",
       "\n",
       "[323 rows x 3 columns]"
      ]
     },
     "execution_count": 357,
     "metadata": {},
     "output_type": "execute_result"
    }
   ],
   "source": [
    "df_freq = df_od[(df_od['O_ADMI_CD'].isin(df_area)) & (df_od['D_ADMI_CD'].isin(df_area))]\n",
    "# df_freq=df_freq.reset_index(drop=True)\n",
    "df_freq = df_freq.drop(columns=['Unnamed: 0'])\n",
    "df_freq"
   ]
  },
  {
   "cell_type": "code",
   "execution_count": 358,
   "metadata": {
    "colab": {
     "base_uri": "https://localhost:8080/",
     "height": 175
    },
    "executionInfo": {
     "elapsed": 13,
     "status": "ok",
     "timestamp": 1725884486373,
     "user": {
      "displayName": "박채연",
      "userId": "11657736879172127669"
     },
     "user_tz": -540
    },
    "id": "lxkAbzELZvkv",
    "outputId": "0a1aae7c-d2bf-4043-9c6c-858b0ddf9e38"
   },
   "outputs": [
    {
     "data": {
      "text/html": [
       "<div>\n",
       "<style scoped>\n",
       "    .dataframe tbody tr th:only-of-type {\n",
       "        vertical-align: middle;\n",
       "    }\n",
       "\n",
       "    .dataframe tbody tr th {\n",
       "        vertical-align: top;\n",
       "    }\n",
       "\n",
       "    .dataframe thead th {\n",
       "        text-align: right;\n",
       "    }\n",
       "</style>\n",
       "<table border=\"1\" class=\"dataframe\">\n",
       "  <thead>\n",
       "    <tr style=\"text-align: right;\">\n",
       "      <th></th>\n",
       "      <th>count</th>\n",
       "      <th>mean</th>\n",
       "      <th>std</th>\n",
       "      <th>min</th>\n",
       "      <th>25%</th>\n",
       "      <th>50%</th>\n",
       "      <th>75%</th>\n",
       "      <th>max</th>\n",
       "    </tr>\n",
       "  </thead>\n",
       "  <tbody>\n",
       "    <tr>\n",
       "      <th>O_ADMI_CD</th>\n",
       "      <td>323.0</td>\n",
       "      <td>4.159052e+07</td>\n",
       "      <td>122.445604</td>\n",
       "      <td>41590253.00</td>\n",
       "      <td>41590530.00</td>\n",
       "      <td>41590570.00</td>\n",
       "      <td>41590590.00</td>\n",
       "      <td>41590630.00</td>\n",
       "    </tr>\n",
       "    <tr>\n",
       "      <th>D_ADMI_CD</th>\n",
       "      <td>323.0</td>\n",
       "      <td>4.159052e+07</td>\n",
       "      <td>122.269323</td>\n",
       "      <td>41590253.00</td>\n",
       "      <td>41590525.00</td>\n",
       "      <td>41590570.00</td>\n",
       "      <td>41590590.00</td>\n",
       "      <td>41590630.00</td>\n",
       "    </tr>\n",
       "    <tr>\n",
       "      <th>CNT</th>\n",
       "      <td>323.0</td>\n",
       "      <td>1.038362e+03</td>\n",
       "      <td>1487.748194</td>\n",
       "      <td>2.89</td>\n",
       "      <td>129.23</td>\n",
       "      <td>413.99</td>\n",
       "      <td>1354.45</td>\n",
       "      <td>7181.29</td>\n",
       "    </tr>\n",
       "  </tbody>\n",
       "</table>\n",
       "</div>"
      ],
      "text/plain": [
       "           count          mean          std          min          25%  \\\n",
       "O_ADMI_CD  323.0  4.159052e+07   122.445604  41590253.00  41590530.00   \n",
       "D_ADMI_CD  323.0  4.159052e+07   122.269323  41590253.00  41590525.00   \n",
       "CNT        323.0  1.038362e+03  1487.748194         2.89       129.23   \n",
       "\n",
       "                   50%          75%          max  \n",
       "O_ADMI_CD  41590570.00  41590590.00  41590630.00  \n",
       "D_ADMI_CD  41590570.00  41590590.00  41590630.00  \n",
       "CNT             413.99      1354.45      7181.29  "
      ]
     },
     "execution_count": 358,
     "metadata": {},
     "output_type": "execute_result"
    }
   ],
   "source": [
    "df_freq.describe().T"
   ]
  },
  {
   "cell_type": "code",
   "execution_count": 359,
   "metadata": {
    "executionInfo": {
     "elapsed": 12,
     "status": "ok",
     "timestamp": 1725884486373,
     "user": {
      "displayName": "박채연",
      "userId": "11657736879172127669"
     },
     "user_tz": -540
    },
    "id": "2YjFvn9t-THa"
   },
   "outputs": [],
   "source": [
    "#행정동(노드),경로(간선)의 개수\n",
    "df_o=df_freq['O_ADMI_CD'].value_counts()\n",
    "df_o= df_o.reset_index()\n",
    "df_o.columns = ['O_ADMI_CD','count']\n",
    "df_d=df_freq['D_ADMI_CD'].value_counts()\n",
    "df_d= df_d.reset_index()\n",
    "df_d.columns = ['D_ADMI_CD','count']"
   ]
  },
  {
   "cell_type": "code",
   "execution_count": 360,
   "metadata": {
    "colab": {
     "base_uri": "https://localhost:8080/"
    },
    "executionInfo": {
     "elapsed": 12,
     "status": "ok",
     "timestamp": 1725884486373,
     "user": {
      "displayName": "박채연",
      "userId": "11657736879172127669"
     },
     "user_tz": -540
    },
    "id": "-rJJxbkH5DX-",
    "outputId": "732cb464-f7cd-4b70-e251-2bf7ab40e34c"
   },
   "outputs": [
    {
     "data": {
      "text/plain": [
       "19"
      ]
     },
     "execution_count": 360,
     "metadata": {},
     "output_type": "execute_result"
    }
   ],
   "source": [
    "df_count=pd.merge(df_o,df_d,how='outer',left_on='O_ADMI_CD', right_on='D_ADMI_CD')\n",
    "node=len(df_count.index)\n",
    "node #노드개수"
   ]
  },
  {
   "cell_type": "code",
   "execution_count": 361,
   "metadata": {
    "colab": {
     "base_uri": "https://localhost:8080/"
    },
    "executionInfo": {
     "elapsed": 11,
     "status": "ok",
     "timestamp": 1725884486373,
     "user": {
      "displayName": "박채연",
      "userId": "11657736879172127669"
     },
     "user_tz": -540
    },
    "id": "2xDBmgNy5DaC",
    "outputId": "e7235145-aab5-49ab-840c-3077f2090721"
   },
   "outputs": [
    {
     "data": {
      "text/plain": [
       "323"
      ]
     },
     "execution_count": 361,
     "metadata": {},
     "output_type": "execute_result"
    }
   ],
   "source": [
    "line=len(df_freq.index)\n",
    "line#간선개수"
   ]
  },
  {
   "cell_type": "code",
   "execution_count": 362,
   "metadata": {
    "colab": {
     "base_uri": "https://localhost:8080/",
     "height": 424
    },
    "executionInfo": {
     "elapsed": 11,
     "status": "ok",
     "timestamp": 1725884486373,
     "user": {
      "displayName": "박채연",
      "userId": "11657736879172127669"
     },
     "user_tz": -540
    },
    "id": "U8yqjR8y5DcX",
    "outputId": "7a887a8a-91ad-46da-a2a6-40f354d7a0bc"
   },
   "outputs": [
    {
     "data": {
      "text/html": [
       "<div>\n",
       "<style scoped>\n",
       "    .dataframe tbody tr th:only-of-type {\n",
       "        vertical-align: middle;\n",
       "    }\n",
       "\n",
       "    .dataframe tbody tr th {\n",
       "        vertical-align: top;\n",
       "    }\n",
       "\n",
       "    .dataframe thead th {\n",
       "        text-align: right;\n",
       "    }\n",
       "</style>\n",
       "<table border=\"1\" class=\"dataframe\">\n",
       "  <thead>\n",
       "    <tr style=\"text-align: right;\">\n",
       "      <th></th>\n",
       "      <th>O_ADMI_CD</th>\n",
       "      <th>D_ADMI_CD</th>\n",
       "      <th>CNT</th>\n",
       "    </tr>\n",
       "  </thead>\n",
       "  <tbody>\n",
       "    <tr>\n",
       "      <th>2</th>\n",
       "      <td>9</td>\n",
       "      <td>6</td>\n",
       "      <td>7181.29</td>\n",
       "    </tr>\n",
       "    <tr>\n",
       "      <th>3</th>\n",
       "      <td>18</td>\n",
       "      <td>3</td>\n",
       "      <td>7053.97</td>\n",
       "    </tr>\n",
       "    <tr>\n",
       "      <th>4</th>\n",
       "      <td>6</td>\n",
       "      <td>9</td>\n",
       "      <td>7033.10</td>\n",
       "    </tr>\n",
       "    <tr>\n",
       "      <th>5</th>\n",
       "      <td>3</td>\n",
       "      <td>18</td>\n",
       "      <td>6926.11</td>\n",
       "    </tr>\n",
       "    <tr>\n",
       "      <th>6</th>\n",
       "      <td>15</td>\n",
       "      <td>9</td>\n",
       "      <td>6879.51</td>\n",
       "    </tr>\n",
       "    <tr>\n",
       "      <th>...</th>\n",
       "      <td>...</td>\n",
       "      <td>...</td>\n",
       "      <td>...</td>\n",
       "    </tr>\n",
       "    <tr>\n",
       "      <th>745</th>\n",
       "      <td>19</td>\n",
       "      <td>4</td>\n",
       "      <td>7.00</td>\n",
       "    </tr>\n",
       "    <tr>\n",
       "      <th>751</th>\n",
       "      <td>19</td>\n",
       "      <td>3</td>\n",
       "      <td>4.50</td>\n",
       "    </tr>\n",
       "    <tr>\n",
       "      <th>752</th>\n",
       "      <td>3</td>\n",
       "      <td>19</td>\n",
       "      <td>4.50</td>\n",
       "    </tr>\n",
       "    <tr>\n",
       "      <th>755</th>\n",
       "      <td>2</td>\n",
       "      <td>19</td>\n",
       "      <td>4.50</td>\n",
       "    </tr>\n",
       "    <tr>\n",
       "      <th>769</th>\n",
       "      <td>19</td>\n",
       "      <td>16</td>\n",
       "      <td>2.89</td>\n",
       "    </tr>\n",
       "  </tbody>\n",
       "</table>\n",
       "<p>323 rows × 3 columns</p>\n",
       "</div>"
      ],
      "text/plain": [
       "     O_ADMI_CD  D_ADMI_CD      CNT\n",
       "2            9          6  7181.29\n",
       "3           18          3  7053.97\n",
       "4            6          9  7033.10\n",
       "5            3         18  6926.11\n",
       "6           15          9  6879.51\n",
       "..         ...        ...      ...\n",
       "745         19          4     7.00\n",
       "751         19          3     4.50\n",
       "752          3         19     4.50\n",
       "755          2         19     4.50\n",
       "769         19         16     2.89\n",
       "\n",
       "[323 rows x 3 columns]"
      ]
     },
     "execution_count": 362,
     "metadata": {},
     "output_type": "execute_result"
    }
   ],
   "source": [
    "#탐색순서대로 고유값 id 부여 (1~n)\n",
    "area_id={}\n",
    "for i in range(node):\n",
    "  df_freq=df_freq.replace(to_replace=df_count['O_ADMI_CD'].loc[i],value=i+1)\n",
    "  area_id[i+1]=df_count['O_ADMI_CD'].loc[i]\n",
    "df_freq #전처리 완료 데이터!"
   ]
  },
  {
   "cell_type": "code",
   "execution_count": 363,
   "metadata": {
    "colab": {
     "base_uri": "https://localhost:8080/"
    },
    "executionInfo": {
     "elapsed": 10,
     "status": "ok",
     "timestamp": 1725884486373,
     "user": {
      "displayName": "박채연",
      "userId": "11657736879172127669"
     },
     "user_tz": -540
    },
    "id": "lzVxsLV85Dec",
    "outputId": "9deea349-8956-4d0a-e66d-c7a3947c0dbd"
   },
   "outputs": [
    {
     "data": {
      "text/plain": [
       "{1: 41590262,\n",
       " 2: 41590590,\n",
       " 3: 41590520,\n",
       " 4: 41590570,\n",
       " 5: 41590585,\n",
       " 6: 41590259,\n",
       " 7: 41590587,\n",
       " 8: 41590600,\n",
       " 9: 41590253,\n",
       " 10: 41590588,\n",
       " 11: 41590610,\n",
       " 12: 41590586,\n",
       " 13: 41590620,\n",
       " 14: 41590630,\n",
       " 15: 41590560,\n",
       " 16: 41590550,\n",
       " 17: 41590540,\n",
       " 18: 41590530,\n",
       " 19: 41590515}"
      ]
     },
     "execution_count": 363,
     "metadata": {},
     "output_type": "execute_result"
    }
   ],
   "source": [
    "area_id #행정동별 id"
   ]
  },
  {
   "cell_type": "code",
   "execution_count": 364,
   "metadata": {},
   "outputs": [],
   "source": [
    "df_freq = df_freq.reset_index(drop = True)"
   ]
  },
  {
   "cell_type": "markdown",
   "metadata": {
    "id": "Bwks_BmCAGKf"
   },
   "source": [
    "# SCC 구현"
   ]
  },
  {
   "cell_type": "code",
   "execution_count": 365,
   "metadata": {
    "colab": {
     "base_uri": "https://localhost:8080/"
    },
    "executionInfo": {
     "elapsed": 9,
     "status": "ok",
     "timestamp": 1725884486373,
     "user": {
      "displayName": "박채연",
      "userId": "11657736879172127669"
     },
     "user_tz": -540
    },
    "id": "X_AVlvwb5Dge",
    "outputId": "284e3929-b0a6-445a-a49c-f67a08b7938b"
   },
   "outputs": [
    {
     "name": "stdout",
     "output_type": "stream",
     "text": [
      "Strongly Connected Component 19 15 16 17 14 13 11 10 2 8 12 5 7 3 18 4 6 9 1\n"
     ]
    }
   ],
   "source": [
    "v= node\n",
    "e= line\n",
    "\n",
    "graph = collections.defaultdict(list)\n",
    "for i in range(e):\n",
    "    a=df_freq['O_ADMI_CD'].loc[i]\n",
    "    b=df_freq['D_ADMI_CD'].loc[i]\n",
    "    \n",
    "    if a > 0 and b > 0 :\n",
    "        graph[a-1].append(b-1)\n",
    "\n",
    "d = [-1 for _ in range(v)]\n",
    "stack=[]\n",
    "on_stack=[False for _ in range(v)]\n",
    "id=0\n",
    "\n",
    "def dfs(cur):\n",
    "    global id\n",
    "    id +=1\n",
    "    d[cur] = id\n",
    "    stack.append(cur)\n",
    "    on_stack[cur] = True\n",
    "\n",
    "    parent = d[cur]\n",
    "    \n",
    "    if cur in graph :\n",
    "        for next in graph[cur]:\n",
    "            if d[next] == -1:\n",
    "                parent = min(parent, dfs(next))\n",
    "            elif on_stack[next] :\n",
    "                parent = min(parent, d[next])\n",
    "    \n",
    "    for next in graph[cur]:\n",
    "        if d[next]==-1: #방문 이력이 없는 노드\n",
    "            parent= min(parent, dfs(next))\n",
    "        elif on_stack[next]: #방문 체크는 되어있지만 아직 처리 완료 X\n",
    "            parent = min(parent, d[next])\n",
    "\n",
    "    if parent == d[cur]: #자신과 부모가 동일\n",
    "        global scc\n",
    "        scc = []\n",
    "        while True:\n",
    "            node = stack.pop()\n",
    "            on_stack[node] = False\n",
    "            scc.append(node+1) #인덱스를 다시 숫자로 변환\n",
    "            if cur == node:\n",
    "                break\n",
    "        print(\"Strongly Connected Component\", *scc)\n",
    "    return parent\n",
    "\n",
    "for i in range(v):\n",
    "    if d[i] ==-1: #방문 이력이 없는 노드\n",
    "        dfs(i)"
   ]
  },
  {
   "cell_type": "code",
   "execution_count": 366,
   "metadata": {
    "colab": {
     "base_uri": "https://localhost:8080/"
    },
    "executionInfo": {
     "elapsed": 9,
     "status": "ok",
     "timestamp": 1725884486373,
     "user": {
      "displayName": "박채연",
      "userId": "11657736879172127669"
     },
     "user_tz": -540
    },
    "id": "pMxN4fJP5Dii",
    "outputId": "9ba70bd9-4cb4-4c89-f5b8-99c2ffe2f54c"
   },
   "outputs": [
    {
     "data": {
      "text/plain": [
       "[1, 9, 6, 4, 18, 3, 7, 5, 12, 8, 2, 10, 11, 13, 14, 17, 16, 15, 19]"
      ]
     },
     "execution_count": 366,
     "metadata": {},
     "output_type": "execute_result"
    }
   ],
   "source": [
    "route=scc[::-1]\n",
    "route"
   ]
  },
  {
   "cell_type": "code",
   "execution_count": 367,
   "metadata": {
    "colab": {
     "base_uri": "https://localhost:8080/",
     "height": 586
    },
    "executionInfo": {
     "elapsed": 8,
     "status": "ok",
     "timestamp": 1725884486373,
     "user": {
      "displayName": "박채연",
      "userId": "11657736879172127669"
     },
     "user_tz": -540
    },
    "id": "7uHAHHDe5Dkh",
    "outputId": "5ad67c14-5610-41fd-b936-ae6c564b909a"
   },
   "outputs": [
    {
     "data": {
      "text/html": [
       "<div>\n",
       "<style scoped>\n",
       "    .dataframe tbody tr th:only-of-type {\n",
       "        vertical-align: middle;\n",
       "    }\n",
       "\n",
       "    .dataframe tbody tr th {\n",
       "        vertical-align: top;\n",
       "    }\n",
       "\n",
       "    .dataframe thead th {\n",
       "        text-align: right;\n",
       "    }\n",
       "</style>\n",
       "<table border=\"1\" class=\"dataframe\">\n",
       "  <thead>\n",
       "    <tr style=\"text-align: right;\">\n",
       "      <th></th>\n",
       "      <th>행정동</th>\n",
       "    </tr>\n",
       "  </thead>\n",
       "  <tbody>\n",
       "    <tr>\n",
       "      <th>0</th>\n",
       "      <td>41590262</td>\n",
       "    </tr>\n",
       "    <tr>\n",
       "      <th>1</th>\n",
       "      <td>41590253</td>\n",
       "    </tr>\n",
       "    <tr>\n",
       "      <th>2</th>\n",
       "      <td>41590259</td>\n",
       "    </tr>\n",
       "    <tr>\n",
       "      <th>3</th>\n",
       "      <td>41590570</td>\n",
       "    </tr>\n",
       "    <tr>\n",
       "      <th>4</th>\n",
       "      <td>41590530</td>\n",
       "    </tr>\n",
       "    <tr>\n",
       "      <th>5</th>\n",
       "      <td>41590520</td>\n",
       "    </tr>\n",
       "    <tr>\n",
       "      <th>6</th>\n",
       "      <td>41590587</td>\n",
       "    </tr>\n",
       "    <tr>\n",
       "      <th>7</th>\n",
       "      <td>41590585</td>\n",
       "    </tr>\n",
       "    <tr>\n",
       "      <th>8</th>\n",
       "      <td>41590586</td>\n",
       "    </tr>\n",
       "    <tr>\n",
       "      <th>9</th>\n",
       "      <td>41590600</td>\n",
       "    </tr>\n",
       "    <tr>\n",
       "      <th>10</th>\n",
       "      <td>41590590</td>\n",
       "    </tr>\n",
       "    <tr>\n",
       "      <th>11</th>\n",
       "      <td>41590588</td>\n",
       "    </tr>\n",
       "    <tr>\n",
       "      <th>12</th>\n",
       "      <td>41590610</td>\n",
       "    </tr>\n",
       "    <tr>\n",
       "      <th>13</th>\n",
       "      <td>41590620</td>\n",
       "    </tr>\n",
       "    <tr>\n",
       "      <th>14</th>\n",
       "      <td>41590630</td>\n",
       "    </tr>\n",
       "    <tr>\n",
       "      <th>15</th>\n",
       "      <td>41590540</td>\n",
       "    </tr>\n",
       "    <tr>\n",
       "      <th>16</th>\n",
       "      <td>41590550</td>\n",
       "    </tr>\n",
       "    <tr>\n",
       "      <th>17</th>\n",
       "      <td>41590560</td>\n",
       "    </tr>\n",
       "    <tr>\n",
       "      <th>18</th>\n",
       "      <td>41590515</td>\n",
       "    </tr>\n",
       "  </tbody>\n",
       "</table>\n",
       "</div>"
      ],
      "text/plain": [
       "         행정동\n",
       "0   41590262\n",
       "1   41590253\n",
       "2   41590259\n",
       "3   41590570\n",
       "4   41590530\n",
       "5   41590520\n",
       "6   41590587\n",
       "7   41590585\n",
       "8   41590586\n",
       "9   41590600\n",
       "10  41590590\n",
       "11  41590588\n",
       "12  41590610\n",
       "13  41590620\n",
       "14  41590630\n",
       "15  41590540\n",
       "16  41590550\n",
       "17  41590560\n",
       "18  41590515"
      ]
     },
     "execution_count": 367,
     "metadata": {},
     "output_type": "execute_result"
    }
   ],
   "source": [
    "#노선 결정\n",
    "df_route=pd.DataFrame({'행정동':route})\n",
    "df_route['행정동']=df_route['행정동'].map(area_id)\n",
    "df_route"
   ]
  },
  {
   "cell_type": "markdown",
   "metadata": {
    "id": "9CzK8YXnAsey"
   },
   "source": [
    "#시각화"
   ]
  },
  {
   "cell_type": "code",
   "execution_count": 368,
   "metadata": {
    "colab": {
     "base_uri": "https://localhost:8080/",
     "height": 424
    },
    "executionInfo": {
     "elapsed": 8,
     "status": "ok",
     "timestamp": 1725884486373,
     "user": {
      "displayName": "박채연",
      "userId": "11657736879172127669"
     },
     "user_tz": -540
    },
    "id": "LpZ2zMFc5Dmx",
    "outputId": "04aeb16a-d172-430b-b039-fea18dd06e2f"
   },
   "outputs": [
    {
     "data": {
      "text/html": [
       "<div>\n",
       "<style scoped>\n",
       "    .dataframe tbody tr th:only-of-type {\n",
       "        vertical-align: middle;\n",
       "    }\n",
       "\n",
       "    .dataframe tbody tr th {\n",
       "        vertical-align: top;\n",
       "    }\n",
       "\n",
       "    .dataframe thead th {\n",
       "        text-align: right;\n",
       "    }\n",
       "</style>\n",
       "<table border=\"1\" class=\"dataframe\">\n",
       "  <thead>\n",
       "    <tr style=\"text-align: right;\">\n",
       "      <th></th>\n",
       "      <th>Unnamed: 0</th>\n",
       "      <th>행정동코드</th>\n",
       "      <th>Longitude</th>\n",
       "      <th>Latitude</th>\n",
       "    </tr>\n",
       "  </thead>\n",
       "  <tbody>\n",
       "    <tr>\n",
       "      <th>0</th>\n",
       "      <td>0</td>\n",
       "      <td>4111156000</td>\n",
       "      <td>126.997406</td>\n",
       "      <td>37.310264</td>\n",
       "    </tr>\n",
       "    <tr>\n",
       "      <th>1</th>\n",
       "      <td>1</td>\n",
       "      <td>4111156000</td>\n",
       "      <td>126.997406</td>\n",
       "      <td>37.310264</td>\n",
       "    </tr>\n",
       "    <tr>\n",
       "      <th>2</th>\n",
       "      <td>2</td>\n",
       "      <td>4111156600</td>\n",
       "      <td>126.971373</td>\n",
       "      <td>37.297539</td>\n",
       "    </tr>\n",
       "    <tr>\n",
       "      <th>3</th>\n",
       "      <td>3</td>\n",
       "      <td>4111156600</td>\n",
       "      <td>126.971373</td>\n",
       "      <td>37.297539</td>\n",
       "    </tr>\n",
       "    <tr>\n",
       "      <th>4</th>\n",
       "      <td>4</td>\n",
       "      <td>4111157100</td>\n",
       "      <td>126.991132</td>\n",
       "      <td>37.302206</td>\n",
       "    </tr>\n",
       "    <tr>\n",
       "      <th>...</th>\n",
       "      <td>...</td>\n",
       "      <td>...</td>\n",
       "      <td>...</td>\n",
       "      <td>...</td>\n",
       "    </tr>\n",
       "    <tr>\n",
       "      <th>731</th>\n",
       "      <td>731</td>\n",
       "      <td>4129054000</td>\n",
       "      <td>126.998478</td>\n",
       "      <td>37.433454</td>\n",
       "    </tr>\n",
       "    <tr>\n",
       "      <th>732</th>\n",
       "      <td>732</td>\n",
       "      <td>4129055000</td>\n",
       "      <td>126.995408</td>\n",
       "      <td>37.448387</td>\n",
       "    </tr>\n",
       "    <tr>\n",
       "      <th>733</th>\n",
       "      <td>733</td>\n",
       "      <td>4129055000</td>\n",
       "      <td>126.995408</td>\n",
       "      <td>37.448387</td>\n",
       "    </tr>\n",
       "    <tr>\n",
       "      <th>734</th>\n",
       "      <td>734</td>\n",
       "      <td>4129056000</td>\n",
       "      <td>127.001863</td>\n",
       "      <td>37.426397</td>\n",
       "    </tr>\n",
       "    <tr>\n",
       "      <th>735</th>\n",
       "      <td>735</td>\n",
       "      <td>4129056000</td>\n",
       "      <td>127.001863</td>\n",
       "      <td>37.426397</td>\n",
       "    </tr>\n",
       "  </tbody>\n",
       "</table>\n",
       "<p>736 rows × 4 columns</p>\n",
       "</div>"
      ],
      "text/plain": [
       "     Unnamed: 0       행정동코드   Longitude   Latitude\n",
       "0             0  4111156000  126.997406  37.310264\n",
       "1             1  4111156000  126.997406  37.310264\n",
       "2             2  4111156600  126.971373  37.297539\n",
       "3             3  4111156600  126.971373  37.297539\n",
       "4             4  4111157100  126.991132  37.302206\n",
       "..          ...         ...         ...        ...\n",
       "731         731  4129054000  126.998478  37.433454\n",
       "732         732  4129055000  126.995408  37.448387\n",
       "733         733  4129055000  126.995408  37.448387\n",
       "734         734  4129056000  127.001863  37.426397\n",
       "735         735  4129056000  127.001863  37.426397\n",
       "\n",
       "[736 rows x 4 columns]"
      ]
     },
     "execution_count": 368,
     "metadata": {},
     "output_type": "execute_result"
    }
   ],
   "source": [
    "#지역별 행정복지 위치 정보 필요 코드\n",
    "df_care=pd.read_csv('OD_데이터/WellCareLongLat.csv')\n",
    "df_care"
   ]
  },
  {
   "cell_type": "code",
   "execution_count": 369,
   "metadata": {
    "executionInfo": {
     "elapsed": 7,
     "status": "ok",
     "timestamp": 1725884486373,
     "user": {
      "displayName": "박채연",
      "userId": "11657736879172127669"
     },
     "user_tz": -540
    },
    "id": "Zit_WUgXHgt5"
   },
   "outputs": [],
   "source": [
    "df_care.drop(columns=['Unnamed: 0'],inplace=True)"
   ]
  },
  {
   "cell_type": "code",
   "execution_count": 370,
   "metadata": {
    "colab": {
     "base_uri": "https://localhost:8080/",
     "height": 206
    },
    "executionInfo": {
     "elapsed": 7,
     "status": "ok",
     "timestamp": 1725884486373,
     "user": {
      "displayName": "박채연",
      "userId": "11657736879172127669"
     },
     "user_tz": -540
    },
    "id": "vtdq97uPPRil",
    "outputId": "97d6c2ab-a579-4ff5-f993-c5b2b439cf0f"
   },
   "outputs": [
    {
     "data": {
      "text/html": [
       "<div>\n",
       "<style scoped>\n",
       "    .dataframe tbody tr th:only-of-type {\n",
       "        vertical-align: middle;\n",
       "    }\n",
       "\n",
       "    .dataframe tbody tr th {\n",
       "        vertical-align: top;\n",
       "    }\n",
       "\n",
       "    .dataframe thead th {\n",
       "        text-align: right;\n",
       "    }\n",
       "</style>\n",
       "<table border=\"1\" class=\"dataframe\">\n",
       "  <thead>\n",
       "    <tr style=\"text-align: right;\">\n",
       "      <th></th>\n",
       "      <th>행정동코드</th>\n",
       "      <th>Longitude</th>\n",
       "      <th>Latitude</th>\n",
       "    </tr>\n",
       "  </thead>\n",
       "  <tbody>\n",
       "    <tr>\n",
       "      <th>0</th>\n",
       "      <td>4111156000</td>\n",
       "      <td>126.997406</td>\n",
       "      <td>37.310264</td>\n",
       "    </tr>\n",
       "    <tr>\n",
       "      <th>1</th>\n",
       "      <td>4111156000</td>\n",
       "      <td>126.997406</td>\n",
       "      <td>37.310264</td>\n",
       "    </tr>\n",
       "    <tr>\n",
       "      <th>2</th>\n",
       "      <td>4111156600</td>\n",
       "      <td>126.971373</td>\n",
       "      <td>37.297539</td>\n",
       "    </tr>\n",
       "    <tr>\n",
       "      <th>3</th>\n",
       "      <td>4111156600</td>\n",
       "      <td>126.971373</td>\n",
       "      <td>37.297539</td>\n",
       "    </tr>\n",
       "    <tr>\n",
       "      <th>4</th>\n",
       "      <td>4111157100</td>\n",
       "      <td>126.991132</td>\n",
       "      <td>37.302206</td>\n",
       "    </tr>\n",
       "  </tbody>\n",
       "</table>\n",
       "</div>"
      ],
      "text/plain": [
       "        행정동코드   Longitude   Latitude\n",
       "0  4111156000  126.997406  37.310264\n",
       "1  4111156000  126.997406  37.310264\n",
       "2  4111156600  126.971373  37.297539\n",
       "3  4111156600  126.971373  37.297539\n",
       "4  4111157100  126.991132  37.302206"
      ]
     },
     "execution_count": 370,
     "metadata": {},
     "output_type": "execute_result"
    }
   ],
   "source": [
    "df_care.head()"
   ]
  },
  {
   "cell_type": "code",
   "execution_count": 371,
   "metadata": {
    "executionInfo": {
     "elapsed": 525,
     "status": "ok",
     "timestamp": 1725884486891,
     "user": {
      "displayName": "박채연",
      "userId": "11657736879172127669"
     },
     "user_tz": -540
    },
    "id": "cBbY1PDHPsRH"
   },
   "outputs": [],
   "source": [
    "df_pos = df_care.copy()"
   ]
  },
  {
   "cell_type": "code",
   "execution_count": 372,
   "metadata": {
    "executionInfo": {
     "elapsed": 5,
     "status": "ok",
     "timestamp": 1725884486891,
     "user": {
      "displayName": "박채연",
      "userId": "11657736879172127669"
     },
     "user_tz": -540
    },
    "id": "X_vBpbQ5QJyU"
   },
   "outputs": [],
   "source": [
    "df_pos = df_pos.rename(columns={'행정동코드':'행정동'})"
   ]
  },
  {
   "cell_type": "code",
   "execution_count": 373,
   "metadata": {
    "colab": {
     "base_uri": "https://localhost:8080/"
    },
    "executionInfo": {
     "elapsed": 5,
     "status": "ok",
     "timestamp": 1725884486891,
     "user": {
      "displayName": "박채연",
      "userId": "11657736879172127669"
     },
     "user_tz": -540
    },
    "id": "lAfs8H1sQk0x",
    "outputId": "4777c734-e27f-4592-9c60-01b0c310ed5a"
   },
   "outputs": [
    {
     "name": "stdout",
     "output_type": "stream",
     "text": [
      "          행정동   Longitude   Latitude\n",
      "0    41111560  126.997406  37.310264\n",
      "1    41111560  126.997406  37.310264\n",
      "2    41111566  126.971373  37.297539\n",
      "3    41111566  126.971373  37.297539\n",
      "4    41111571  126.991132  37.302206\n",
      "..        ...         ...        ...\n",
      "731  41290540  126.998478  37.433454\n",
      "732  41290550  126.995408  37.448387\n",
      "733  41290550  126.995408  37.448387\n",
      "734  41290560  127.001863  37.426397\n",
      "735  41290560  127.001863  37.426397\n",
      "\n",
      "[736 rows x 3 columns]\n"
     ]
    }
   ],
   "source": [
    "# 행정동코드에서 맨 뒤 두 자리를 제거\n",
    "df_pos['행정동'] = df_pos['행정동'].astype(str).str[:-2]\n",
    "\n",
    "# 결과 확인\n",
    "print(df_pos)"
   ]
  },
  {
   "cell_type": "code",
   "execution_count": 374,
   "metadata": {
    "executionInfo": {
     "elapsed": 5,
     "status": "ok",
     "timestamp": 1725884486892,
     "user": {
      "displayName": "박채연",
      "userId": "11657736879172127669"
     },
     "user_tz": -540
    },
    "id": "0q0ekaw8Qr8N"
   },
   "outputs": [],
   "source": [
    "df_pos['행정동'] = df_pos['행정동'].astype(int) # 정수형으로 변환"
   ]
  },
  {
   "cell_type": "code",
   "execution_count": 375,
   "metadata": {},
   "outputs": [
    {
     "data": {
      "text/html": [
       "<div>\n",
       "<style scoped>\n",
       "    .dataframe tbody tr th:only-of-type {\n",
       "        vertical-align: middle;\n",
       "    }\n",
       "\n",
       "    .dataframe tbody tr th {\n",
       "        vertical-align: top;\n",
       "    }\n",
       "\n",
       "    .dataframe thead th {\n",
       "        text-align: right;\n",
       "    }\n",
       "</style>\n",
       "<table border=\"1\" class=\"dataframe\">\n",
       "  <thead>\n",
       "    <tr style=\"text-align: right;\">\n",
       "      <th></th>\n",
       "      <th>행정동</th>\n",
       "      <th>Longitude</th>\n",
       "      <th>Latitude</th>\n",
       "    </tr>\n",
       "  </thead>\n",
       "  <tbody>\n",
       "    <tr>\n",
       "      <th>0</th>\n",
       "      <td>41111560</td>\n",
       "      <td>126.997406</td>\n",
       "      <td>37.310264</td>\n",
       "    </tr>\n",
       "    <tr>\n",
       "      <th>1</th>\n",
       "      <td>41111560</td>\n",
       "      <td>126.997406</td>\n",
       "      <td>37.310264</td>\n",
       "    </tr>\n",
       "    <tr>\n",
       "      <th>2</th>\n",
       "      <td>41111566</td>\n",
       "      <td>126.971373</td>\n",
       "      <td>37.297539</td>\n",
       "    </tr>\n",
       "    <tr>\n",
       "      <th>3</th>\n",
       "      <td>41111566</td>\n",
       "      <td>126.971373</td>\n",
       "      <td>37.297539</td>\n",
       "    </tr>\n",
       "    <tr>\n",
       "      <th>4</th>\n",
       "      <td>41111571</td>\n",
       "      <td>126.991132</td>\n",
       "      <td>37.302206</td>\n",
       "    </tr>\n",
       "    <tr>\n",
       "      <th>...</th>\n",
       "      <td>...</td>\n",
       "      <td>...</td>\n",
       "      <td>...</td>\n",
       "    </tr>\n",
       "    <tr>\n",
       "      <th>731</th>\n",
       "      <td>41290540</td>\n",
       "      <td>126.998478</td>\n",
       "      <td>37.433454</td>\n",
       "    </tr>\n",
       "    <tr>\n",
       "      <th>732</th>\n",
       "      <td>41290550</td>\n",
       "      <td>126.995408</td>\n",
       "      <td>37.448387</td>\n",
       "    </tr>\n",
       "    <tr>\n",
       "      <th>733</th>\n",
       "      <td>41290550</td>\n",
       "      <td>126.995408</td>\n",
       "      <td>37.448387</td>\n",
       "    </tr>\n",
       "    <tr>\n",
       "      <th>734</th>\n",
       "      <td>41290560</td>\n",
       "      <td>127.001863</td>\n",
       "      <td>37.426397</td>\n",
       "    </tr>\n",
       "    <tr>\n",
       "      <th>735</th>\n",
       "      <td>41290560</td>\n",
       "      <td>127.001863</td>\n",
       "      <td>37.426397</td>\n",
       "    </tr>\n",
       "  </tbody>\n",
       "</table>\n",
       "<p>736 rows × 3 columns</p>\n",
       "</div>"
      ],
      "text/plain": [
       "          행정동   Longitude   Latitude\n",
       "0    41111560  126.997406  37.310264\n",
       "1    41111560  126.997406  37.310264\n",
       "2    41111566  126.971373  37.297539\n",
       "3    41111566  126.971373  37.297539\n",
       "4    41111571  126.991132  37.302206\n",
       "..        ...         ...        ...\n",
       "731  41290540  126.998478  37.433454\n",
       "732  41290550  126.995408  37.448387\n",
       "733  41290550  126.995408  37.448387\n",
       "734  41290560  127.001863  37.426397\n",
       "735  41290560  127.001863  37.426397\n",
       "\n",
       "[736 rows x 3 columns]"
      ]
     },
     "execution_count": 375,
     "metadata": {},
     "output_type": "execute_result"
    }
   ],
   "source": [
    "df_pos"
   ]
  },
  {
   "cell_type": "code",
   "execution_count": 376,
   "metadata": {},
   "outputs": [
    {
     "data": {
      "text/plain": [
       "(         행정동\n",
       " 0   41590262\n",
       " 1   41590253\n",
       " 2   41590259\n",
       " 3   41590570\n",
       " 4   41590530\n",
       " 5   41590520\n",
       " 6   41590587\n",
       " 7   41590585\n",
       " 8   41590586\n",
       " 9   41590600\n",
       " 10  41590590\n",
       " 11  41590588\n",
       " 12  41590610\n",
       " 13  41590620\n",
       " 14  41590630\n",
       " 15  41590540\n",
       " 16  41590550\n",
       " 17  41590560\n",
       " 18  41590515,           행정동   Longitude   Latitude\n",
       " 0    41111560  126.997406  37.310264\n",
       " 1    41111560  126.997406  37.310264\n",
       " 2    41111566  126.971373  37.297539\n",
       " 3    41111566  126.971373  37.297539\n",
       " 4    41111571  126.991132  37.302206\n",
       " ..        ...         ...        ...\n",
       " 731  41290540  126.998478  37.433454\n",
       " 732  41290550  126.995408  37.448387\n",
       " 733  41290550  126.995408  37.448387\n",
       " 734  41290560  127.001863  37.426397\n",
       " 735  41290560  127.001863  37.426397\n",
       " \n",
       " [736 rows x 3 columns])"
      ]
     },
     "execution_count": 376,
     "metadata": {},
     "output_type": "execute_result"
    }
   ],
   "source": [
    "df_route,df_pos"
   ]
  },
  {
   "cell_type": "code",
   "execution_count": 377,
   "metadata": {
    "colab": {
     "base_uri": "https://localhost:8080/",
     "height": 582
    },
    "executionInfo": {
     "elapsed": 5,
     "status": "ok",
     "timestamp": 1725884486892,
     "user": {
      "displayName": "박채연",
      "userId": "11657736879172127669"
     },
     "user_tz": -540
    },
    "id": "w46QgYJRCdk2",
    "outputId": "6f33a408-5e4c-4733-cdf8-6acb516374ec"
   },
   "outputs": [
    {
     "data": {
      "text/html": [
       "<div>\n",
       "<style scoped>\n",
       "    .dataframe tbody tr th:only-of-type {\n",
       "        vertical-align: middle;\n",
       "    }\n",
       "\n",
       "    .dataframe tbody tr th {\n",
       "        vertical-align: top;\n",
       "    }\n",
       "\n",
       "    .dataframe thead th {\n",
       "        text-align: right;\n",
       "    }\n",
       "</style>\n",
       "<table border=\"1\" class=\"dataframe\">\n",
       "  <thead>\n",
       "    <tr style=\"text-align: right;\">\n",
       "      <th></th>\n",
       "      <th>행정동</th>\n",
       "      <th>Longitude</th>\n",
       "      <th>Latitude</th>\n",
       "    </tr>\n",
       "  </thead>\n",
       "  <tbody>\n",
       "    <tr>\n",
       "      <th>0</th>\n",
       "      <td>41590570</td>\n",
       "      <td>127.014617</td>\n",
       "      <td>37.206030</td>\n",
       "    </tr>\n",
       "    <tr>\n",
       "      <th>1</th>\n",
       "      <td>41590570</td>\n",
       "      <td>127.014617</td>\n",
       "      <td>37.206030</td>\n",
       "    </tr>\n",
       "    <tr>\n",
       "      <th>2</th>\n",
       "      <td>41590570</td>\n",
       "      <td>127.014617</td>\n",
       "      <td>37.206030</td>\n",
       "    </tr>\n",
       "    <tr>\n",
       "      <th>3</th>\n",
       "      <td>41590530</td>\n",
       "      <td>127.037242</td>\n",
       "      <td>37.206860</td>\n",
       "    </tr>\n",
       "    <tr>\n",
       "      <th>4</th>\n",
       "      <td>41590520</td>\n",
       "      <td>127.034976</td>\n",
       "      <td>37.213336</td>\n",
       "    </tr>\n",
       "    <tr>\n",
       "      <th>5</th>\n",
       "      <td>41590520</td>\n",
       "      <td>127.034976</td>\n",
       "      <td>37.213336</td>\n",
       "    </tr>\n",
       "    <tr>\n",
       "      <th>6</th>\n",
       "      <td>41590520</td>\n",
       "      <td>127.034976</td>\n",
       "      <td>37.213336</td>\n",
       "    </tr>\n",
       "    <tr>\n",
       "      <th>7</th>\n",
       "      <td>41590520</td>\n",
       "      <td>127.034976</td>\n",
       "      <td>37.213336</td>\n",
       "    </tr>\n",
       "    <tr>\n",
       "      <th>8</th>\n",
       "      <td>41590587</td>\n",
       "      <td>127.058678</td>\n",
       "      <td>37.209959</td>\n",
       "    </tr>\n",
       "    <tr>\n",
       "      <th>9</th>\n",
       "      <td>41590585</td>\n",
       "      <td>127.071950</td>\n",
       "      <td>37.206462</td>\n",
       "    </tr>\n",
       "    <tr>\n",
       "      <th>10</th>\n",
       "      <td>41590585</td>\n",
       "      <td>127.071950</td>\n",
       "      <td>37.206462</td>\n",
       "    </tr>\n",
       "    <tr>\n",
       "      <th>11</th>\n",
       "      <td>41590585</td>\n",
       "      <td>127.071950</td>\n",
       "      <td>37.206462</td>\n",
       "    </tr>\n",
       "    <tr>\n",
       "      <th>12</th>\n",
       "      <td>41590586</td>\n",
       "      <td>127.072278</td>\n",
       "      <td>37.196925</td>\n",
       "    </tr>\n",
       "    <tr>\n",
       "      <th>13</th>\n",
       "      <td>41590600</td>\n",
       "      <td>127.090203</td>\n",
       "      <td>37.191302</td>\n",
       "    </tr>\n",
       "    <tr>\n",
       "      <th>14</th>\n",
       "      <td>41590600</td>\n",
       "      <td>127.090203</td>\n",
       "      <td>37.191302</td>\n",
       "    </tr>\n",
       "    <tr>\n",
       "      <th>15</th>\n",
       "      <td>41590600</td>\n",
       "      <td>127.090203</td>\n",
       "      <td>37.191302</td>\n",
       "    </tr>\n",
       "    <tr>\n",
       "      <th>16</th>\n",
       "      <td>41590590</td>\n",
       "      <td>127.103841</td>\n",
       "      <td>37.209948</td>\n",
       "    </tr>\n",
       "    <tr>\n",
       "      <th>17</th>\n",
       "      <td>41590590</td>\n",
       "      <td>127.103841</td>\n",
       "      <td>37.209948</td>\n",
       "    </tr>\n",
       "    <tr>\n",
       "      <th>18</th>\n",
       "      <td>41590588</td>\n",
       "      <td>127.112286</td>\n",
       "      <td>37.199801</td>\n",
       "    </tr>\n",
       "    <tr>\n",
       "      <th>19</th>\n",
       "      <td>41590610</td>\n",
       "      <td>127.110414</td>\n",
       "      <td>37.170502</td>\n",
       "    </tr>\n",
       "    <tr>\n",
       "      <th>20</th>\n",
       "      <td>41590610</td>\n",
       "      <td>127.110414</td>\n",
       "      <td>37.170502</td>\n",
       "    </tr>\n",
       "    <tr>\n",
       "      <th>21</th>\n",
       "      <td>41590620</td>\n",
       "      <td>127.105353</td>\n",
       "      <td>37.162318</td>\n",
       "    </tr>\n",
       "    <tr>\n",
       "      <th>22</th>\n",
       "      <td>41590540</td>\n",
       "      <td>127.043171</td>\n",
       "      <td>37.211572</td>\n",
       "    </tr>\n",
       "    <tr>\n",
       "      <th>23</th>\n",
       "      <td>41590550</td>\n",
       "      <td>127.060601</td>\n",
       "      <td>37.233159</td>\n",
       "    </tr>\n",
       "    <tr>\n",
       "      <th>24</th>\n",
       "      <td>41590560</td>\n",
       "      <td>126.984876</td>\n",
       "      <td>37.224160</td>\n",
       "    </tr>\n",
       "    <tr>\n",
       "      <th>25</th>\n",
       "      <td>41590560</td>\n",
       "      <td>126.984876</td>\n",
       "      <td>37.224160</td>\n",
       "    </tr>\n",
       "    <tr>\n",
       "      <th>26</th>\n",
       "      <td>41590515</td>\n",
       "      <td>126.818755</td>\n",
       "      <td>37.281206</td>\n",
       "    </tr>\n",
       "  </tbody>\n",
       "</table>\n",
       "</div>"
      ],
      "text/plain": [
       "         행정동   Longitude   Latitude\n",
       "0   41590570  127.014617  37.206030\n",
       "1   41590570  127.014617  37.206030\n",
       "2   41590570  127.014617  37.206030\n",
       "3   41590530  127.037242  37.206860\n",
       "4   41590520  127.034976  37.213336\n",
       "5   41590520  127.034976  37.213336\n",
       "6   41590520  127.034976  37.213336\n",
       "7   41590520  127.034976  37.213336\n",
       "8   41590587  127.058678  37.209959\n",
       "9   41590585  127.071950  37.206462\n",
       "10  41590585  127.071950  37.206462\n",
       "11  41590585  127.071950  37.206462\n",
       "12  41590586  127.072278  37.196925\n",
       "13  41590600  127.090203  37.191302\n",
       "14  41590600  127.090203  37.191302\n",
       "15  41590600  127.090203  37.191302\n",
       "16  41590590  127.103841  37.209948\n",
       "17  41590590  127.103841  37.209948\n",
       "18  41590588  127.112286  37.199801\n",
       "19  41590610  127.110414  37.170502\n",
       "20  41590610  127.110414  37.170502\n",
       "21  41590620  127.105353  37.162318\n",
       "22  41590540  127.043171  37.211572\n",
       "23  41590550  127.060601  37.233159\n",
       "24  41590560  126.984876  37.224160\n",
       "25  41590560  126.984876  37.224160\n",
       "26  41590515  126.818755  37.281206"
      ]
     },
     "execution_count": 377,
     "metadata": {},
     "output_type": "execute_result"
    }
   ],
   "source": [
    "# 행정동코드와 행정복지센터위치 연결\n",
    "df_r = pd.merge(left = df_route,right = df_pos, how='inner',on='행정동')\n",
    "df_r"
   ]
  },
  {
   "cell_type": "code",
   "execution_count": 378,
   "metadata": {},
   "outputs": [],
   "source": [
    "df_r.to_csv('정류장노선/행정복지관정보_용인.csv')\n",
    "df_route.to_csv('정류장노선/정류장정보_용인.csv')"
   ]
  },
  {
   "cell_type": "code",
   "execution_count": null,
   "metadata": {},
   "outputs": [],
   "source": [
    "## 지역별로 확인한 코드"
   ]
  }
 ],
 "metadata": {
  "colab": {
   "provenance": []
  },
  "kernelspec": {
   "display_name": "Python 3",
   "language": "python",
   "name": "python3"
  },
  "language_info": {
   "codemirror_mode": {
    "name": "ipython",
    "version": 3
   },
   "file_extension": ".py",
   "mimetype": "text/x-python",
   "name": "python",
   "nbconvert_exporter": "python",
   "pygments_lexer": "ipython3",
   "version": "3.7.9"
  }
 },
 "nbformat": 4,
 "nbformat_minor": 4
}
