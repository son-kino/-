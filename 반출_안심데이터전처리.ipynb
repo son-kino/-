{
 "cells": [
  {
   "cell_type": "code",
   "execution_count": 2,
   "metadata": {},
   "outputs": [],
   "source": [
    "import pandas as pd\n",
    "\n",
    "\n",
    "# 데이터 정의\n",
    "data = pd.read_csv(\"0.원본+전처리_데이터/TB_SHC_SALE_CUST_INFO_202404.csv\")\n",
    "\n",
    "# 데이터프레임 생성\n",
    "df = pd.DataFrame(data)"
   ]
  },
  {
   "cell_type": "markdown",
   "metadata": {},
   "source": [
    "# 각 시별 카드소비데이터 전처리"
   ]
  },
  {
   "cell_type": "code",
   "execution_count": 3,
   "metadata": {},
   "outputs": [],
   "source": [
    "#수원시\n",
    "# \t•\t장안구 (4111100000)\n",
    "# \t•\t권선구 (4111300000)\n",
    "# \t•\t팔달구 (4111500000)\n",
    "# \t•\t영통구 (4111700000)\n",
    "\n",
    "# 용인시 → 처인, 기흥, 수지 (3개)\n",
    "# \t•\t처인구 (4146100000)\n",
    "# \t•\t기흥구 (4146300000)\n",
    "# \t•\t수지구 (4146500000)\n",
    "\n",
    "# 부천시 → 원미, 소사, 오정(3개)\n",
    "# \t◦\t원미구 (4119200000)\n",
    "# \t◦\t소사구 (4119400000)\n",
    "# \t◦\t오정구 (4119600000)\n",
    "\n",
    "# 시흥시 (4139000000)→ 없음(행정동만 20개)\n",
    "\n",
    "# 광명시(4121000000) → 없음(행정동만 19개)\n",
    "\n",
    "# 안산시 → 단원구,상록구(2개)\n",
    "# \t◦\t단원구(4127300000)\n",
    "# \t◦\t상록구(4127100000)\n",
    "\n",
    "# 안양시 → 만안, 동안 (2개)\n",
    "# \t◦\t만안구 (4117100000)\n",
    "# \t◦\t동안구 (4117300000)\n",
    "\n",
    "# 포천시 (4165000000) → 없음(읍면동 14개)\n",
    "\n",
    "# 하남시 (4145000000) → 없음(행정동 14개)\n",
    "\n",
    "# 화성시 (4159000000) → 없음(법정동 25개)"
   ]
  },
  {
   "cell_type": "code",
   "execution_count": 4,
   "metadata": {},
   "outputs": [],
   "source": [
    "suwon_cd = [4111100000,4111300000,4111500000,4111700000]\n",
    "yong_cd = [4146100000,4146300000,4146500000]\n",
    "bu_cd = [4119200000,4119400000,4119600000]\n",
    "si_cd = [4139000000]\n",
    "gwang_cd = [4121000000] \n",
    "ansan_cd = [4127300000, 4127100000]\n",
    "anyang_cd = [4117100000,4117300000]\n",
    "po_cd = [4165000000]\n",
    "hanam_cd = [4145000000]\n",
    "hwasung_cd = [4159000000]"
   ]
  },
  {
   "cell_type": "code",
   "execution_count": 6,
   "metadata": {},
   "outputs": [],
   "source": [
    "df_cd = df[df['시군구코드'].isin(yong_cd)] "
   ]
  },
  {
   "cell_type": "code",
   "execution_count": 8,
   "metadata": {},
   "outputs": [],
   "source": [
    "df_cd = df_cd[df_cd['십단위연령구분코드'] == 6] # 연령대 분류 60대 이상\n",
    "df_cd = df_cd[(df_cd['업종대분류코드'] == 2) | (df_cd['업종대분류코드'] == 4) | (df_cd['업종대분류코드'] == 5) | (df_cd['업종중분류코드']==72)] # 소비코드 분류 2번: 소매/유통 7번 중\n",
    "# 가전제품, 건강/기호식품, 선물/완구, 스포츠/레저용품, 음식료품소매, 의복/의류, 인테리어/가정용품, 종합소매점,  "
   ]
  },
  {
   "cell_type": "code",
   "execution_count": 9,
   "metadata": {},
   "outputs": [],
   "source": [
    "df_cd = df_cd.iloc[:, [3,4,5,15]] # df 가져오기"
   ]
  },
  {
   "cell_type": "code",
   "execution_count": 10,
   "metadata": {},
   "outputs": [],
   "source": [
    "df_cd['업종대분류코드'] = df_cd['업종대분류코드'].map({7:'의료/건강',2:'소매/유통',4:'소매/유통',5:'소매/유통'}) # 칼럼 명 설정\n",
    "# df_cd['업종대분류코드'].value_counts()"
   ]
  },
  {
   "cell_type": "markdown",
   "metadata": {},
   "source": [
    "# 나갈 형태 만들어주기"
   ]
  },
  {
   "cell_type": "code",
   "execution_count": 11,
   "metadata": {},
   "outputs": [],
   "source": [
    "df_group = df_cd.groupby(['읍면동코드','업종대분류코드']).agg({'결제건수':'sum'}).reset_index() #\n",
    "df_pivot = df_group.pivot_table(columns='업종대분류코드',index='읍면동코드',values='결제건수')\n",
    "df_pivot = df_pivot.fillna(0)\n",
    "# df_pivot"
   ]
  },
  {
   "cell_type": "code",
   "execution_count": 12,
   "metadata": {},
   "outputs": [],
   "source": [
    "df_pivot.to_csv('0.원본+전처리_데이터/데이터구역_카드소비데이터_수원.csv')"
   ]
  },
  {
   "cell_type": "markdown",
   "metadata": {},
   "source": [
    "# 한번에 진행"
   ]
  },
  {
   "cell_type": "code",
   "execution_count": 11,
   "metadata": {},
   "outputs": [],
   "source": [
    "def preprocessing_ansim(df, cd, name):\n",
    "    df_cd = df[df['시군구코드'].isin(cd)] \n",
    "    df_cd = df_cd[df_cd['십단위연령구분코드'] == 6] # 연령대 분류 60대 이상\n",
    "    df_cd = df_cd[(df_cd['업종대분류코드'] == 2) | (df_cd['업종대분류코드'] == 4) | (df_cd['업종대분류코드'] == 5) | (df_cd['업종중분류코드']==72)] # 소비코드 분류 2번: 소매/유통 7번 중\n",
    "    df_cd = df_cd.iloc[:, [3,4,5,15]] # df 가져오기\n",
    "    df_cd['업종대분류코드'] = df_cd['업종대분류코드'].map({7:'의료/건강',2:'소매/유통',4:'소매/유통',5:'소매/유통'}) # 칼럼 명 설정\n",
    "    df_cd['업종대분류코드'].value_counts()\n",
    "    df_group = df_cd.groupby(['읍면동코드','업종대분류코드']).agg({'결제건수':'sum'}).reset_index() #\n",
    "    df_pivot = df_group.pivot_table(columns='업종대분류코드',index='읍면동코드',values='결제건수')\n",
    "    df_pivot = df_pivot.fillna(0)\n",
    "    df_pivot.to_csv(f'전처리_데이터/데이터구역_카드소비데이터_{name}.csv')\n",
    "    return"
   ]
  },
  {
   "cell_type": "code",
   "execution_count": 12,
   "metadata": {},
   "outputs": [],
   "source": [
    "lst_cd = [suwon_cd,yong_cd,bu_cd,si_cd,gwang_cd,ansan_cd,anyang_cd,po_cd,hanam_cd,hwasung_cd]\n",
    "lst_name = ['수원','용인','부천','시흥','광명','안산','안양','포천','하남','화성']"
   ]
  },
  {
   "cell_type": "code",
   "execution_count": 13,
   "metadata": {},
   "outputs": [],
   "source": [
    "for cd, name in zip(lst_cd,lst_name):\n",
    "    preprocessing_ansim(df, cd, name)"
   ]
  },
  {
   "cell_type": "code",
   "execution_count": null,
   "metadata": {},
   "outputs": [],
   "source": []
  }
 ],
 "metadata": {
  "kernelspec": {
   "display_name": "Python 3",
   "language": "python",
   "name": "python3"
  },
  "language_info": {
   "codemirror_mode": {
    "name": "ipython",
    "version": 3
   },
   "file_extension": ".py",
   "mimetype": "text/x-python",
   "name": "python",
   "nbconvert_exporter": "python",
   "pygments_lexer": "ipython3",
   "version": "3.7.9"
  }
 },
 "nbformat": 4,
 "nbformat_minor": 4
}
